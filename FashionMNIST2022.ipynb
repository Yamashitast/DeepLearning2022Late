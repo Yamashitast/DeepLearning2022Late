{
  "nbformat": 4,
  "nbformat_minor": 0,
  "metadata": {
    "colab": {
      "provenance": [],
      "authorship_tag": "ABX9TyNDyAnYn7pdOhxQ8ni/aMWN",
      "include_colab_link": true
    },
    "kernelspec": {
      "name": "python3",
      "display_name": "Python 3"
    },
    "language_info": {
      "name": "python"
    }
  },
  "cells": [
    {
      "cell_type": "markdown",
      "metadata": {
        "id": "view-in-github",
        "colab_type": "text"
      },
      "source": [
        "<a href=\"https://colab.research.google.com/github/Yamashitast/DeepLearning2022Late/blob/main/FashionMNIST2022.ipynb\" target=\"_parent\"><img src=\"https://colab.research.google.com/assets/colab-badge.svg\" alt=\"Open In Colab\"/></a>"
      ]
    },
    {
      "cell_type": "markdown",
      "source": [
        "#ファッション画像(MNISTデータ)の画像認識"
      ],
      "metadata": {
        "id": "1uzfyufL2g_O"
      }
    },
    {
      "cell_type": "markdown",
      "source": [
        "##データの読み込み\n",
        "ライブラリから読み込み"
      ],
      "metadata": {
        "id": "sjhocpOe3O4k"
      }
    },
    {
      "cell_type": "code",
      "execution_count": null,
      "metadata": {
        "id": "0uh6dZ4K2DSO"
      },
      "outputs": [],
      "source": [
        "from __future__ import absolute_import, division, print_function, unicode_literals\n",
        "#KerasとTensorFlowを読み込む\n",
        "import tensorflow as tf\n",
        "from tensorflow import keras"
      ]
    },
    {
      "cell_type": "markdown",
      "source": [
        "###ファッションMNIST"
      ],
      "metadata": {
        "id": "mYKLKt2f4_yr"
      }
    },
    {
      "cell_type": "code",
      "source": [
        "fashion_mnist=keras.datasets.fashion_mnist\n",
        "#データ読み込み\n",
        "(train_images, train_labels),(test_images,test_labels)=fashion_mnist.load_data()\n"
      ],
      "metadata": {
        "id": "Xd2u3YxT4yo7"
      },
      "execution_count": null,
      "outputs": []
    },
    {
      "cell_type": "markdown",
      "source": [
        "###分類用の変数を定義する\n",
        "・0 T-shirt/top<br>\n",
        "・1 Trouser<br>\n",
        "・2 Pullover<br>\n",
        "・3 Dress<br>\n",
        "・4 Coat<br>\n",
        "・5 Sandal<br>\n",
        "・6 Shirt<br>\n",
        "・7 Sneaker<br>\n",
        "・8 Bag<br>\n",
        "・9Ankle boot<br>"
      ],
      "metadata": {
        "id": "8mFDvqdy8Mmg"
      }
    },
    {
      "cell_type": "code",
      "source": [
        "class_names=['T-shirt/top','Trouser','Pullover','Drerss','Coat',\n",
        "             'Sandal','Shirt','Sneaker','Bag','Ankle boot']\n",
        "print(class_names[3])#リストの中身を確認"
      ],
      "metadata": {
        "colab": {
          "base_uri": "https://localhost:8080/"
        },
        "id": "UbfRnVja8KE7",
        "outputId": "3c82a5d7-89d2-4ce2-c798-0bd3fdb19c09"
      },
      "execution_count": null,
      "outputs": [
        {
          "output_type": "stream",
          "name": "stdout",
          "text": [
            "Drerss\n"
          ]
        }
      ]
    },
    {
      "cell_type": "markdown",
      "source": [
        "###読み込んだデータの確認"
      ],
      "metadata": {
        "id": "jV9Am0qR-g5j"
      }
    },
    {
      "cell_type": "code",
      "source": [
        "#train_images,teset_imagesの形を確認\n",
        "print(train_images.shape)#学習用画像データの形\n",
        "print(test_images.shape)#テスト検証用画像データの形\n",
        "print(train_labels.shape)#学習用答えデータ(ラベル)の形\n",
        "print(train_labels)"
      ],
      "metadata": {
        "colab": {
          "base_uri": "https://localhost:8080/"
        },
        "id": "9gI_i3Hk-fLx",
        "outputId": "fb317c09-5b63-471f-97e5-15ad91aa44f8"
      },
      "execution_count": null,
      "outputs": [
        {
          "output_type": "stream",
          "name": "stdout",
          "text": [
            "(60000, 28, 28)\n",
            "(10000, 28, 28)\n",
            "(60000,)\n",
            "[9 0 0 ... 3 0 5]\n"
          ]
        }
      ]
    },
    {
      "cell_type": "markdown",
      "source": [
        "###画像データを表示"
      ],
      "metadata": {
        "id": "f499A0Z-A71G"
      }
    },
    {
      "cell_type": "code",
      "source": [
        "#学習画像の先頭を確認\n",
        "#matplotlibのpyplotを読み込む\n",
        "import matplotlib.pyplot as plt\n",
        "#numpyを読み込む\n",
        "import numpy as np\n",
        "\n",
        "plt.figure()\n",
        "plt.imshow(train_images[0])#9番のアンクルブーツ\n",
        "plt.colorbar()\n",
        "plt.grid(False)\n",
        "plt.show()"
      ],
      "metadata": {
        "colab": {
          "base_uri": "https://localhost:8080/",
          "height": 265
        },
        "id": "hTjUIEgL_FTQ",
        "outputId": "35d0982f-68ea-4770-afe3-686d7a3b37da"
      },
      "execution_count": null,
      "outputs": [
        {
          "output_type": "display_data",
          "data": {
            "text/plain": [
              "<Figure size 432x288 with 2 Axes>"
            ],
            "image/png": "[encoded data removed]"
          },
          "metadata": {
            "needs_background": "light"
          }
        }
      ]
    },
    {
      "cell_type": "markdown",
      "source": [
        "###データを256段階に整形"
      ],
      "metadata": {
        "id": "LpDoMxJTDbQ1"
      }
    },
    {
      "cell_type": "code",
      "source": [
        "train_images=train_images/255.0\n",
        "test_images=test_images/255.0"
      ],
      "metadata": {
        "id": "dehr7DLXB25Y"
      },
      "execution_count": null,
      "outputs": []
    },
    {
      "cell_type": "code",
      "source": [
        "#整形後のデータを表示\n",
        "plt.figure(figsize=(10,10))\n",
        "for i in range(25):\n",
        "  plt.subplot(5,5,i+1)\n",
        "  plt.xticks([])\n",
        "  plt.yticks([])\n",
        "  plt.grid(False)\n",
        "  plt.imshow(train_images[i],cmap=plt.cm.binary)\n",
        "  plt.xlabel(class_names[train_labels[i]])\n",
        "#ループ終わり"
      ],
      "metadata": {
        "colab": {
          "base_uri": "https://localhost:8080/",
          "height": 589
        },
        "id": "Pn9Sfx9wDjJR",
        "outputId": "176d1c4c-7bff-48a3-8103-a9d56f85761e"
      },
      "execution_count": null,
      "outputs": [
        {
          "output_type": "display_data",
          "data": {
            "text/plain": [
              "<Figure size 720x720 with 25 Axes>"
            ],
            "image/png": "[encoded data removed]"
          },
          "metadata": {}
        }
      ]
    },
    {
      "cell_type": "markdown",
      "source": [
        "##学習モデルを組み立てる"
      ],
      "metadata": {
        "id": "J5xeTOjroUIC"
      }
    },
    {
      "cell_type": "markdown",
      "source": [
        "###層(レイヤー)を設定追加していく"
      ],
      "metadata": {
        "id": "Dgi80WLyoW2L"
      }
    },
    {
      "cell_type": "code",
      "source": [
        "#kerasの学習モデルに層を設定\n",
        "model=tf.keras.Sequential()#学習モデル\n",
        "#入力データを整形(28*28が1画像の1次元データに整形)\n",
        "model.add(tf.keras.layers.Flatten(input_shape=(28,28)))\n",
        "#パーセプトロンの層追加(Dense)#出力を128,活性化関数をrelu関数で指定\n",
        "model.add(tf.keras.layers.Dense(128,activation='relu'))\n",
        "#2つ目の層の追加(Dense)#出力を10,最後の層\n",
        "model.add(tf.keras.layers.Dense(10))"
      ],
      "metadata": {
        "id": "-Z-oBvHBFMfo"
      },
      "execution_count": null,
      "outputs": []
    },
    {
      "cell_type": "markdown",
      "source": [
        "学習モデルをコンパイル"
      ],
      "metadata": {
        "id": "pT63Snqfsh8Q"
      }
    },
    {
      "cell_type": "code",
      "source": [
        "#学習モデルをコンパイル\n",
        "#オプティマイザー=adam(損失をみて学習パラメータを更新する方法)\n",
        "#損失関数=クロスエントロピー(正解率の計算方法)\n",
        "#指標 accuracy(正解率)学習状況の監視の基準\n",
        "model.compile(optimizer='adam',\n",
        "              loss=tf.keras.losses.SparseCategoricalCrossentropy(from_logits=True),\n",
        "              metrics=['accuracy'])"
      ],
      "metadata": {
        "id": "MbIHJnTmpmh5"
      },
      "execution_count": null,
      "outputs": []
    },
    {
      "cell_type": "markdown",
      "source": [
        "###出来上がった学習モデルでサンプルデータを学習する"
      ],
      "metadata": {
        "id": "UE2YgYppvvcQ"
      }
    },
    {
      "cell_type": "code",
      "source": [
        "#学習する\n",
        "model.fit(train_images,train_labels,epochs=10)"
      ],
      "metadata": {
        "colab": {
          "base_uri": "https://localhost:8080/"
        },
        "id": "H9okKYDXtL4g",
        "outputId": "4e03b209-60af-4c04-bbc7-1674b183cb12"
      },
      "execution_count": null,
      "outputs": [
        {
          "output_type": "stream",
          "name": "stdout",
          "text": [
            "Epoch 1/10\n",
            "1875/1875 [==============================] - 7s 4ms/step - loss: 0.5008 - accuracy: 0.8242\n",
            "Epoch 2/10\n",
            "1875/1875 [==============================] - 6s 3ms/step - loss: 0.3761 - accuracy: 0.8627\n",
            "Epoch 3/10\n",
            "1875/1875 [==============================] - 6s 3ms/step - loss: 0.3364 - accuracy: 0.8765\n",
            "Epoch 4/10\n",
            "1875/1875 [==============================] - 6s 3ms/step - loss: 0.3144 - accuracy: 0.8851\n",
            "Epoch 5/10\n",
            "1875/1875 [==============================] - 6s 3ms/step - loss: 0.2959 - accuracy: 0.8910\n",
            "Epoch 6/10\n",
            "1875/1875 [==============================] - 6s 3ms/step - loss: 0.2801 - accuracy: 0.8970\n",
            "Epoch 7/10\n",
            "1875/1875 [==============================] - 6s 3ms/step - loss: 0.2681 - accuracy: 0.9009\n",
            "Epoch 8/10\n",
            "1875/1875 [==============================] - 6s 3ms/step - loss: 0.2583 - accuracy: 0.9044\n",
            "Epoch 9/10\n",
            "1875/1875 [==============================] - 7s 4ms/step - loss: 0.2468 - accuracy: 0.9076\n",
            "Epoch 10/10\n",
            "1875/1875 [==============================] - 6s 3ms/step - loss: 0.2372 - accuracy: 0.9112\n"
          ]
        },
        {
          "output_type": "execute_result",
          "data": {
            "text/plain": [
              "<keras.callbacks.History at 0x7f35635ab510>"
            ]
          },
          "metadata": {},
          "execution_count": 35
        }
      ]
    },
    {
      "cell_type": "markdown",
      "source": [
        "#学習したモデルを評価検証する"
      ],
      "metadata": {
        "id": "LaDxM7BVxuTG"
      }
    },
    {
      "cell_type": "code",
      "source": [
        "#学習していないデータ(test_images&test_labels)で学習度合いを評価検証する\n",
        "test_loss,test_acc=model.evaluate(test_images,test_labels,verbose=2)\n",
        "#評価結果の戻り値のうち、精度を表示する\n",
        "print('精度 accuracy:',test_acc)"
      ],
      "metadata": {
        "colab": {
          "base_uri": "https://localhost:8080/"
        },
        "id": "FVqNi7Mpwa32",
        "outputId": "42366618-77bf-402a-850d-90e7e86c44b8"
      },
      "execution_count": null,
      "outputs": [
        {
          "output_type": "stream",
          "name": "stdout",
          "text": [
            "313/313 - 1s - loss: 0.3718 - accuracy: 0.8705 - 612ms/epoch - 2ms/step\n",
            "精度 accuracy: 0.8705000281333923\n"
          ]
        }
      ]
    },
    {
      "cell_type": "markdown",
      "source": [
        "###学習モデルで予測させる"
      ],
      "metadata": {
        "id": "dMQkDQTzz-5s"
      }
    },
    {
      "cell_type": "code",
      "source": [
        "#学習モデルで予測させる\n",
        "probability_model=tf.keras.Sequential([model,tf.keras.layers.Softmax()])\n",
        "#予測モデルの予測結果を受け取る\n",
        "predictions=probability_model.predict(test_images)"
      ],
      "metadata": {
        "colab": {
          "base_uri": "https://localhost:8080/"
        },
        "id": "0rkYC508zASx",
        "outputId": "0bd69230-a4ac-4491-e98c-9904977abc49"
      },
      "execution_count": null,
      "outputs": [
        {
          "output_type": "stream",
          "name": "stdout",
          "text": [
            "313/313 [==============================] - 1s 2ms/step\n"
          ]
        }
      ]
    },
    {
      "cell_type": "markdown",
      "source": [
        "###予測結果を確認"
      ],
      "metadata": {
        "id": "_sHfCrqs1R4B"
      }
    },
    {
      "cell_type": "code",
      "source": [
        "#予測結果の形を確認\n",
        "print(predictions.shape)\n",
        "#先頭行を確認\n",
        "print(predictions[0])\n",
        "#一番高い確率を確認\n",
        "print(np.argmax(predictions[0]))\n",
        "print(predictions[0][9])\n",
        "#testの先頭データは何か確認(予測が正解したか?)\n",
        "print(test_labels[0])\n",
        "print(class_names[test_labels[0]])"
      ],
      "metadata": {
        "colab": {
          "base_uri": "https://localhost:8080/"
        },
        "id": "ATDnv1vu0yOh",
        "outputId": "fdb9326b-24d0-465e-b487-ad65e88653de"
      },
      "execution_count": null,
      "outputs": [
        {
          "output_type": "stream",
          "name": "stdout",
          "text": [
            "(10000, 10)\n",
            "[2.46118975e-06 9.60216018e-10 2.07513793e-08 2.75029608e-12\n",
            " 1.84124527e-09 1.30324205e-02 1.04280815e-08 1.48417905e-01\n",
            " 3.45764306e-07 8.38546872e-01]\n",
            "9\n",
            "0.8385469\n",
            "9\n",
            "Ankle boot\n"
          ]
        }
      ]
    },
    {
      "cell_type": "markdown",
      "source": [
        "##個別の予測結果をグラフィカルに表示するための関数を準備する"
      ],
      "metadata": {
        "id": "sOma1ZF_-dsX"
      }
    },
    {
      "cell_type": "markdown",
      "source": [
        "###画像と結果の値を表示する関数"
      ],
      "metadata": {
        "id": "umYM90ZU_Ch2"
      }
    },
    {
      "cell_type": "code",
      "source": [
        "def plot_image(i,predictions_array,true_label,img):\n",
        "  #正解ラベルリストのi番目と画像リストのi番目を抜き出す\n",
        "  true_label,img=true_label[i],img[i]\n",
        "  #pyplotの設定\n",
        "  plt.grid(False)#グリッドなし\n",
        "  plt.xticks([])#x刻みなし\n",
        "  plt.yticks([])#y刻みなし\n",
        "  plt.imshow(img,cmap=plt.cm.binary)#画像を白黒表示で設定\n",
        "  #予測結果の文字列表示部分\n",
        "  #予測の配列のうち、一番高い確率といわれているものを抜き出して代入\n",
        "  predicted_label=np.argmax(predictions_array)\n",
        "  #予測が正解ラベルと同じ値かどうかを判定\n",
        "  if predicted_label==true_label:\n",
        "    color='blue'#予測が正解の時は青色で表示\n",
        "  else:\n",
        "    color='red'#予測が不正解の時は赤色で表示\n",
        "  #if文終わり\n",
        "#plotに横タイトルを設定\n",
        "#予測商品名、予測確率、正解商品名の順に表示\n",
        "  plt.xlabel(\"{}{:2.0f}%({})\".format(\n",
        "      class_names[predicted_label],\n",
        "      100*np.max(predictions_array),\n",
        "      class_names[true_label]),color=color)\n",
        "#関数終わり"
      ],
      "metadata": {
        "id": "vk3NPSq51fEi"
      },
      "execution_count": null,
      "outputs": []
    },
    {
      "cell_type": "markdown",
      "source": [
        "###予測と正解の値を棒グラフで表示する関数"
      ],
      "metadata": {
        "id": "su-cs-2bHGHC"
      }
    },
    {
      "cell_type": "code",
      "source": [
        "def plt_value_array(i,predictions_array,true_label):\n",
        "  true_label=true_label[i]\n",
        "  #pyplotの設定\n",
        "  plt.grid(False)#グリッドなし\n",
        "  plt.xticks(range(10))#x刻み0～9\n",
        "  plt.yticks([])#y刻みなし\n",
        "  #棒を設定 棒を10刻みでpredictions_arrayの数分、グレー表示\n",
        "  thisplot=plt.bar(range(10),predictions_array,color='#777777')\n",
        "  plt.ylim([0,1])\n",
        "  #正解、不正解の棒をグレーから色を変える\n",
        "  predicted_label=np.argmax(predictions_array)\n",
        "  #予測の棒は赤に変える\n",
        "  thisplot[predicted_label].set_color('red')\n",
        "  #正解の棒は青に変える(赤い予測も青に変わる)\n",
        "  thisplot[true_label].set_color('blue')\n",
        "#関数終わり"
      ],
      "metadata": {
        "id": "KBb4rhrFDiLU"
      },
      "execution_count": null,
      "outputs": []
    },
    {
      "cell_type": "markdown",
      "source": [
        "###作成した関数を使って予測と正解をグラフィカル表示する"
      ],
      "metadata": {
        "id": "8eiJ14HlMKwY"
      }
    },
    {
      "cell_type": "code",
      "source": [
        "#0番目の画像を確認\n",
        "i=12\n",
        "#plotを設定\n",
        "plt.figure(figsize=(6,3))\n",
        "plt.subplot(1,2,1)\n",
        "#画像とタイトルを関数表示\n",
        "#i=0,predictions[0]=1万件分の予測の0番目=10個の確率の配列\n",
        "#test_labels=1万件の正解配列、test_images=1万件分の評価用画像データ\n",
        "plot_image(i,predictions[i],test_labels,test_images)\n",
        "plt.subplot(1,2,2)#隣にサブプロット\n",
        "#予測結果を関数で棒グラフ表示\n",
        "plt_value_array(i,predictions[i],test_labels)\n",
        "plt.show()#最後に表示"
      ],
      "metadata": {
        "colab": {
          "base_uri": "https://localhost:8080/",
          "height": 211
        },
        "id": "lKwEP_IkMKOe",
        "outputId": "aa18c44f-d7de-4bf7-d6f9-64e47c4cfab7"
      },
      "execution_count": null,
      "outputs": [
        {
          "output_type": "display_data",
          "data": {
            "text/plain": [
              "<Figure size 432x216 with 2 Axes>"
            ],
            "image/png": "[encoded data removed]"
          },
          "metadata": {
            "needs_background": "light"
          }
        }
      ]
    },
    {
      "cell_type": "code",
      "source": [],
      "metadata": {
        "id": "-sUdVPRnO-VG"
      },
      "execution_count": null,
      "outputs": []
    }
  ]
}