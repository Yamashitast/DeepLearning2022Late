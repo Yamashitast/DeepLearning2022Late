{
  "nbformat": 4,
  "nbformat_minor": 0,
  "metadata": {
    "colab": {
      "provenance": [],
      "collapsed_sections": [],
      "authorship_tag": "ABX9TyOsTZFry/YIfEdbOsw1OXnw",
      "include_colab_link": true
    },
    "kernelspec": {
      "name": "python3",
      "display_name": "Python 3"
    },
    "language_info": {
      "name": "python"
    }
  },
  "cells": [
    {
      "cell_type": "markdown",
      "metadata": {
        "id": "view-in-github",
        "colab_type": "text"
      },
      "source": [
        "<a href=\"https://colab.research.google.com/github/Yamashitast/DeepLearning2022Late/blob/main/%E3%83%86%E3%82%B9%E3%83%880912.ipynb\" target=\"_parent\"><img src=\"https://colab.research.google.com/assets/colab-badge.svg\" alt=\"Open In Colab\"/></a>"
      ]
    },
    {
      "cell_type": "code",
      "source": [
        "print(\"Hello World\")"
      ],
      "metadata": {
        "colab": {
          "base_uri": "https://localhost:8080/"
        },
        "id": "ISQrgH98o1lT",
        "outputId": "27a0a42b-0af3-4d48-9dbc-2bb0939b623c"
      },
      "execution_count": null,
      "outputs": [
        {
          "output_type": "stream",
          "name": "stdout",
          "text": [
            "Hello World\n"
          ]
        }
      ]
    },
    {
      "cell_type": "code",
      "source": [
        "x=1.23456\n",
        "print(x)\n",
        "print(type(x))"
      ],
      "metadata": {
        "colab": {
          "base_uri": "https://localhost:8080/"
        },
        "id": "2hBdVz7wpVP0",
        "outputId": "d698d3e2-934d-43e2-b0d3-c20ed85d28d6"
      },
      "execution_count": null,
      "outputs": [
        {
          "output_type": "stream",
          "name": "stdout",
          "text": [
            "1.23456\n",
            "<class 'float'>\n"
          ]
        }
      ]
    },
    {
      "cell_type": "code",
      "source": [
        "#整数型、文字列型も表示する\n",
        "seisuu=100\n",
        "print(type(seisuu))\n",
        "hello=\"Hello Python\"\n",
        "print(type(hello))"
      ],
      "metadata": {
        "colab": {
          "base_uri": "https://localhost:8080/"
        },
        "id": "CG2VBQkIpr1e",
        "outputId": "bc69ea52-f87a-451c-8d99-f89854fc66f5"
      },
      "execution_count": null,
      "outputs": [
        {
          "output_type": "stream",
          "name": "stdout",
          "text": [
            "<class 'int'>\n",
            "<class 'str'>\n"
          ]
        }
      ]
    },
    {
      "cell_type": "code",
      "source": [
        "#型を変換する\n",
        "print(type(seisuu))#整数型\n",
        "#文字列型に変換\n",
        "strSeisuu=str(seisuu)\n",
        "print(type(strSeisuu))"
      ],
      "metadata": {
        "colab": {
          "base_uri": "https://localhost:8080/"
        },
        "id": "7sC6NwTzqMf-",
        "outputId": "932cf954-09fd-4ba7-e842-c3e46416f1ed"
      },
      "execution_count": null,
      "outputs": [
        {
          "output_type": "stream",
          "name": "stdout",
          "text": [
            "<class 'int'>\n",
            "<class 'str'>\n"
          ]
        }
      ]
    },
    {
      "cell_type": "code",
      "source": [
        "### 定数\n",
        "#Python3ではmNone,True/Falseは置き換え不可のキーワード\n",
        "print(type(None))\n",
        "#true/falseはboolean\n",
        "print(type(True))"
      ],
      "metadata": {
        "colab": {
          "base_uri": "https://localhost:8080/"
        },
        "id": "sGU40pUSrW8M",
        "outputId": "4cea2362-1dcd-46aa-d18c-75057e1f2dcc"
      },
      "execution_count": null,
      "outputs": [
        {
          "output_type": "stream",
          "name": "stdout",
          "text": [
            "<class 'NoneType'>\n",
            "<class 'bool'>\n"
          ]
        }
      ]
    },
    {
      "cell_type": "markdown",
      "source": [
        "演算の練習"
      ],
      "metadata": {
        "id": "OcYSwq2Xsx1Z"
      }
    },
    {
      "cell_type": "code",
      "source": [
        "#足し算引き算掛け算はJavaと一緒\n",
        "#割り算に注意\n",
        "print(6/4)#Javaと違って整数同士の割り算も少数になる\n",
        "print(6//4)#Javaのように整数同士の割り算の整数部を返す\n",
        "#あまり残もJavaと一緒"
      ],
      "metadata": {
        "colab": {
          "base_uri": "https://localhost:8080/"
        },
        "id": "tpp45OVssz1T",
        "outputId": "cbb54448-e716-4ada-b371-0416abc88b0f"
      },
      "execution_count": null,
      "outputs": [
        {
          "output_type": "stream",
          "name": "stdout",
          "text": [
            "1.5\n",
            "1\n"
          ]
        }
      ]
    },
    {
      "cell_type": "code",
      "source": [
        "#絶対値を出す関数\n",
        "print(abs(-3.14))\n"
      ],
      "metadata": {
        "id": "1VYoUD5wtI9t"
      },
      "execution_count": null,
      "outputs": []
    }
  ]
}