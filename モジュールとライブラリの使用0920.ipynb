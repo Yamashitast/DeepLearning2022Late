{
  "nbformat": 4,
  "nbformat_minor": 0,
  "metadata": {
    "colab": {
      "provenance": [],
      "collapsed_sections": [],
      "authorship_tag": "ABX9TyNYwdvTGfkhPp3+mOOhrz9C",
      "include_colab_link": true
    },
    "kernelspec": {
      "name": "python3",
      "display_name": "Python 3"
    },
    "language_info": {
      "name": "python"
    }
  },
  "cells": [
    {
      "cell_type": "markdown",
      "metadata": {
        "id": "view-in-github",
        "colab_type": "text"
      },
      "source": [
        "<a href=\"https://colab.research.google.com/github/Yamashitast/DeepLearning2022Late/blob/main/%E3%83%A2%E3%82%B8%E3%83%A5%E3%83%BC%E3%83%AB%E3%81%A8%E3%83%A9%E3%82%A4%E3%83%96%E3%83%A9%E3%83%AA%E3%81%AE%E4%BD%BF%E7%94%A80920.ipynb\" target=\"_parent\"><img src=\"https://colab.research.google.com/assets/colab-badge.svg\" alt=\"Open In Colab\"/></a>"
      ]
    },
    {
      "cell_type": "markdown",
      "source": [
        "#モジュールを使う\n",
        "##import文でモジュールを読み込んで使う\n",
        "###例)math"
      ],
      "metadata": {
        "id": "l5iP8GWf9i3F"
      }
    },
    {
      "cell_type": "code",
      "source": [
        "#mathモジュールを読み込む\n",
        "import math\n",
        "print(math.pi)#mathの中に定義してある円周率を表示\n",
        "print(math.pow(5,2))#5の2乗\n",
        "print(math.sqrt(9))#9の平方根"
      ],
      "metadata": {
        "colab": {
          "base_uri": "https://localhost:8080/"
        },
        "id": "GePm2rGu9vwn",
        "outputId": "457a1f37-fea2-4fc0-c728-97b6b244f11e"
      },
      "execution_count": 1,
      "outputs": [
        {
          "output_type": "stream",
          "name": "stdout",
          "text": [
            "3.141592653589793\n",
            "25.0\n",
            "3.0\n"
          ]
        }
      ]
    },
    {
      "cell_type": "markdown",
      "source": [
        "##Numpy--数値計算用の便利なライブラリ"
      ],
      "metadata": {
        "id": "4j2Gpmlu_Yek"
      }
    },
    {
      "cell_type": "markdown",
      "source": [
        "[https://numpy.org/](https://numpy.org/)"
      ],
      "metadata": {
        "id": "4ITJlDmhpzHU"
      }
    },
    {
      "cell_type": "code",
      "source": [
        "#numpyをimport\n",
        "import numpy as np"
      ],
      "metadata": {
        "id": "WX05x0jr98BY"
      },
      "execution_count": 2,
      "outputs": []
    },
    {
      "cell_type": "markdown",
      "source": [
        "###numpy配列(ndarray)を作る"
      ],
      "metadata": {
        "id": "IFiDcjDTopG6"
      }
    },
    {
      "cell_type": "code",
      "source": [
        "#リストwお引き渡してndarrayを作る\n",
        "a=np.array([5,7,3,1,4,3])\n",
        "print(a)"
      ],
      "metadata": {
        "colab": {
          "base_uri": "https://localhost:8080/"
        },
        "id": "SUB9piHmoIyF",
        "outputId": "4a91de41-9794-43f0-9910-b3e97a99afa9"
      },
      "execution_count": 3,
      "outputs": [
        {
          "output_type": "stream",
          "name": "stdout",
          "text": [
            "[5 7 3 1 4 3]\n"
          ]
        }
      ]
    },
    {
      "cell_type": "markdown",
      "source": [
        "##Numpyで配列の操作をしてみる\n",
        "###配列を構成しなおす"
      ],
      "metadata": {
        "id": "1rfPLSdwqRE2"
      }
    },
    {
      "cell_type": "code",
      "source": [
        "#現在、aは1行1次元配列\n",
        "print(a)\n",
        "#aを3行2列の2次元配列に構成しなおす\n",
        "b=a.reshape([3,2])#新しい配列の構成を引数で指定する\n",
        "print(b)"
      ],
      "metadata": {
        "colab": {
          "base_uri": "https://localhost:8080/"
        },
        "id": "8w1b0EuxqKUo",
        "outputId": "2371c908-3ed5-4256-91b1-36cf46d2755d"
      },
      "execution_count": 4,
      "outputs": [
        {
          "output_type": "stream",
          "name": "stdout",
          "text": [
            "[5 7 3 1 4 3]\n",
            "[[5 7]\n",
            " [3 1]\n",
            " [4 3]]\n"
          ]
        }
      ]
    },
    {
      "cell_type": "markdown",
      "source": [
        "###Numpy配列の中身を初期化して作る"
      ],
      "metadata": {
        "id": "1uPtlH6zsQs7"
      }
    },
    {
      "cell_type": "code",
      "source": [
        "#3行4列の0が入った2次元配列を作る\n",
        "c=np.zeros((3,4))\n",
        "print(c)\n",
        "#ランダムな値が入った配列を作る\n",
        "np.random.seed(0)\n",
        "r=np.random.rand(3,4)\n",
        "print(r)"
      ],
      "metadata": {
        "colab": {
          "base_uri": "https://localhost:8080/"
        },
        "id": "FGGiuwHbsNit",
        "outputId": "c0e44b69-e6d1-4a4e-872b-8ad8984b6021"
      },
      "execution_count": 5,
      "outputs": [
        {
          "output_type": "stream",
          "name": "stdout",
          "text": [
            "[[0. 0. 0. 0.]\n",
            " [0. 0. 0. 0.]\n",
            " [0. 0. 0. 0.]]\n",
            "[[0.5488135  0.71518937 0.60276338 0.54488318]\n",
            " [0.4236548  0.64589411 0.43758721 0.891773  ]\n",
            " [0.96366276 0.38344152 0.79172504 0.52889492]]\n"
          ]
        }
      ]
    },
    {
      "cell_type": "markdown",
      "source": [
        "##Numpyのスライスのやりかた\n",
        "###基本\n",
        "スライスの指定の仕方[start:stop:step]で指定する"
      ],
      "metadata": {
        "id": "FwBn70zZurEz"
      }
    },
    {
      "cell_type": "code",
      "source": [
        "#リストのスライス\n",
        "l=list(range(10))#0～9までの10個の要素のリスト\n",
        "print(l)\n",
        "print(l[4:8])#[4:8]でスライス\n",
        "print(l[::-1])#stepを‐1でスライス"
      ],
      "metadata": {
        "colab": {
          "base_uri": "https://localhost:8080/"
        },
        "id": "I2tVckMYuqYH",
        "outputId": "db4e811b-b474-4f6c-f824-80384bb1f865"
      },
      "execution_count": 6,
      "outputs": [
        {
          "output_type": "stream",
          "name": "stdout",
          "text": [
            "[0, 1, 2, 3, 4, 5, 6, 7, 8, 9]\n",
            "[4, 5, 6, 7]\n",
            "[9, 8, 7, 6, 5, 4, 3, 2, 1, 0]\n"
          ]
        }
      ]
    },
    {
      "cell_type": "markdown",
      "source": [
        "###1次元のNumpy配列(ndarray)におけるスライス"
      ],
      "metadata": {
        "id": "f-P8C7yYxIyu"
      }
    },
    {
      "cell_type": "code",
      "source": [
        "#ハイン意を指定してndarrayを作る\n",
        "a=np.arange(10)#0～9の10個の要素のndarray\n",
        "print(a)\n",
        "print(a[2:8])\n",
        "print(a[2:8:2])#step2で2個飛ばし\n",
        "print(a[2:8:3])"
      ],
      "metadata": {
        "colab": {
          "base_uri": "https://localhost:8080/"
        },
        "id": "r91fAO6KskY0",
        "outputId": "67095cad-8cfc-4d25-c2cd-5474b723bc14"
      },
      "execution_count": 7,
      "outputs": [
        {
          "output_type": "stream",
          "name": "stdout",
          "text": [
            "[0 1 2 3 4 5 6 7 8 9]\n",
            "[2 3 4 5 6 7]\n",
            "[2 4 6]\n",
            "[2 5]\n"
          ]
        }
      ]
    },
    {
      "cell_type": "markdown",
      "source": [
        "###1次元配列のndarrayのスライスに代入"
      ],
      "metadata": {
        "id": "RrCM3kmZzxf5"
      }
    },
    {
      "cell_type": "code",
      "source": [
        "print(a)\n",
        "a[3:6]=100#指定した範囲に特定の値を代入\n",
        "print(a)\n",
        "a[3:6]=[100,200,300]#指定した範囲にリストの値を代入\n",
        "print(a)\n",
        "#a[3:6]=[100,200,300,400]#3つの範囲を4つの要素で上書き\n",
        "a=np.arange(10)\n",
        "print(a)\n",
        "a[2:8:2]=100#start2stop8にstep2で上書き\n",
        "print(a)"
      ],
      "metadata": {
        "colab": {
          "base_uri": "https://localhost:8080/"
        },
        "id": "b_zUaewazLw_",
        "outputId": "0d24653a-4a48-44d1-c61a-0cf3fc33027a"
      },
      "execution_count": 8,
      "outputs": [
        {
          "output_type": "stream",
          "name": "stdout",
          "text": [
            "[0 1 2 3 4 5 6 7 8 9]\n",
            "[  0   1   2 100 100 100   6   7   8   9]\n",
            "[  0   1   2 100 200 300   6   7   8   9]\n",
            "[0 1 2 3 4 5 6 7 8 9]\n",
            "[  0   1 100   3 100   5 100   7   8   9]\n"
          ]
        }
      ]
    },
    {
      "cell_type": "markdown",
      "source": [
        "##多次元配列のndarrayのスライス"
      ],
      "metadata": {
        "id": "9PPUXAho2r0r"
      }
    },
    {
      "cell_type": "code",
      "source": [
        "#3行4列の2次元配列を作る\n",
        "a=np.arange(12).reshape((3,4))\n",
        "print(a)\n",
        "#2行目から終わりまでの行=[1:]\n",
        "#2列目から4列目手前までの列=[1:3]\n",
        "print(a[1:,1:3])\n",
        "b=np.arange(20).reshape(5,4)\n",
        "print(b)\n",
        "#9,10,13,14,17,18の3行2列だけ抜き出す\n",
        "print(b[2:,1:3])"
      ],
      "metadata": {
        "colab": {
          "base_uri": "https://localhost:8080/"
        },
        "id": "fldUyL2Pz6DM",
        "outputId": "7abb2a0e-08f1-4aa8-b422-25b5f10b2665"
      },
      "execution_count": 9,
      "outputs": [
        {
          "output_type": "stream",
          "name": "stdout",
          "text": [
            "[[ 0  1  2  3]\n",
            " [ 4  5  6  7]\n",
            " [ 8  9 10 11]]\n",
            "[[ 5  6]\n",
            " [ 9 10]]\n",
            "[[ 0  1  2  3]\n",
            " [ 4  5  6  7]\n",
            " [ 8  9 10 11]\n",
            " [12 13 14 15]\n",
            " [16 17 18 19]]\n",
            "[[ 9 10]\n",
            " [13 14]\n",
            " [17 18]]\n"
          ]
        }
      ]
    },
    {
      "cell_type": "markdown",
      "source": [
        "##多次元のndarrayへのスライスでの代入"
      ],
      "metadata": {
        "id": "6pd6ryate14X"
      }
    },
    {
      "cell_type": "code",
      "source": [
        "#要素数12の3行4列の2次元配列を作る\n",
        "a=np.arange(12).reshape(3,4)\n",
        "print(a)\n",
        "#5,6,9,10の部分をスライス\n",
        "print(a[1:,1:3])\n",
        "a[1:,1:3]=100\n",
        "print(a)\n",
        "a=np.arange(12).reshape(3,4)\n",
        "#多次元での上書きにリストを使う\n",
        "a[1:,1:3]=[100,200]\n",
        "print(a)\n",
        "#多次元の上書きに2次元のリストを使う\n",
        "a[1:,1:3]=[[100,200],[300,400]]\n",
        "print(a)"
      ],
      "metadata": {
        "id": "1eLRHT_U2_-f",
        "colab": {
          "base_uri": "https://localhost:8080/"
        },
        "outputId": "8ad57e72-8594-41e6-826d-73ec88a9d851"
      },
      "execution_count": 13,
      "outputs": [
        {
          "output_type": "stream",
          "name": "stdout",
          "text": [
            "[[ 0  1  2  3]\n",
            " [ 4  5  6  7]\n",
            " [ 8  9 10 11]]\n",
            "[[ 5  6]\n",
            " [ 9 10]]\n",
            "[[  0   1   2   3]\n",
            " [  4 100 100   7]\n",
            " [  8 100 100  11]]\n",
            "[[  0   1   2   3]\n",
            " [  4 100 200   7]\n",
            " [  8 100 200  11]]\n",
            "[[  0   1   2   3]\n",
            " [  4 100 200   7]\n",
            " [  8 300 400  11]]\n"
          ]
        }
      ]
    },
    {
      "cell_type": "markdown",
      "source": [
        "###多次元のdnarrayへのstepを使ったスライスでの代入"
      ],
      "metadata": {
        "id": "sGtCULFjiZis"
      }
    },
    {
      "cell_type": "code",
      "source": [
        "#要素数12 3行4列のndarrayを作って変数aに代入\n",
        "a=np.arange(12).reshape((3,4))\n",
        "print(a)\n",
        "#スライスにstep使ってみる 4,6,8,10抜き出す\n",
        "print(a[1:,::2])\n",
        "#0,3,4,7　抜き出す\n",
        "print(a[:2,::3])\n",
        "a[1:,::2]=100#4,6,8,10だったところを100で上書き\n",
        "print(a)\n",
        "#4, 6, 8, 10だったところをリストで上書き\n",
        "a[1:, ::2] = [100, 200]\n",
        "print(a)\n",
        "#4, 6, 8, 10だったところを多次元のリストで上書き\n",
        "a[1:, ::2] = [100, 200], [300, 400]\n",
        "print(a)"
      ],
      "metadata": {
        "colab": {
          "base_uri": "https://localhost:8080/"
        },
        "id": "Xi3gjSe0fQLG",
        "outputId": "ab42ddc9-1010-4353-ded9-0b586a2b5db9"
      },
      "execution_count": 19,
      "outputs": [
        {
          "output_type": "stream",
          "name": "stdout",
          "text": [
            "[[ 0  1  2  3]\n",
            " [ 4  5  6  7]\n",
            " [ 8  9 10 11]]\n",
            "[[ 4  6]\n",
            " [ 8 10]]\n",
            "[[0 3]\n",
            " [4 7]]\n",
            "[[  0   1   2   3]\n",
            " [100   5 100   7]\n",
            " [100   9 100  11]]\n",
            "[[  0   1   2   3]\n",
            " [100   5 200   7]\n",
            " [100   9 200  11]]\n",
            "[[  0   1   2   3]\n",
            " [100   5 200   7]\n",
            " [300   9 400  11]]\n"
          ]
        }
      ]
    },
    {
      "cell_type": "code",
      "source": [],
      "metadata": {
        "id": "xBhgZVchjZql"
      },
      "execution_count": null,
      "outputs": []
    }
  ]
}