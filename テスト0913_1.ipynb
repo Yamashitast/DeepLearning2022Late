{
  "nbformat": 4,
  "nbformat_minor": 0,
  "metadata": {
    "colab": {
      "provenance": [],
      "collapsed_sections": [],
      "authorship_tag": "ABX9TyNefA5k/PGJvIGCWKHil6IT",
      "include_colab_link": true
    },
    "kernelspec": {
      "name": "python3",
      "display_name": "Python 3"
    },
    "language_info": {
      "name": "python"
    }
  },
  "cells": [
    {
      "cell_type": "markdown",
      "metadata": {
        "id": "view-in-github",
        "colab_type": "text"
      },
      "source": [
        "<a href=\"https://colab.research.google.com/github/Yamashitast/DeepLearning2022Late/blob/main/%E3%83%86%E3%82%B9%E3%83%880913_1.ipynb\" target=\"_parent\"><img src=\"https://colab.research.google.com/assets/colab-badge.svg\" alt=\"Open In Colab\"/></a>"
      ]
    },
    {
      "cell_type": "markdown",
      "source": [
        "#リスト型とタプル型\n",
        "##リストとタプル"
      ],
      "metadata": {
        "id": "ug7qh5BrU6IV"
      }
    },
    {
      "cell_type": "code",
      "source": [
        "#リスト\n",
        "list=['アップル','ペン','ペン','パイナップル']\n",
        "print(list)\n",
        "print(list[1]+list[2])"
      ],
      "metadata": {
        "colab": {
          "base_uri": "https://localhost:8080/"
        },
        "id": "gz2EY5kYVHVi",
        "outputId": "fb5e77f7-ef3d-4294-f294-3b8f67a5cbc5"
      },
      "execution_count": 18,
      "outputs": [
        {
          "output_type": "stream",
          "name": "stdout",
          "text": [
            "['アップル', 'ペン', 'ペン', 'パイナップル']\n",
            "ペンペン\n"
          ]
        }
      ]
    },
    {
      "cell_type": "code",
      "source": [
        "#タプル\n",
        "tuple=('アップル','ペン','ペン','パイナップル')\n",
        "print(tuple)\n",
        "print(tuple[1]+tuple[2])"
      ],
      "metadata": {
        "colab": {
          "base_uri": "https://localhost:8080/"
        },
        "id": "_jOOXJMUWDpE",
        "outputId": "68613960-8f3c-42b8-f557-e4b5157a5656"
      },
      "execution_count": 19,
      "outputs": [
        {
          "output_type": "stream",
          "name": "stdout",
          "text": [
            "('アップル', 'ペン', 'ペン', 'パイナップル')\n",
            "ペンペン\n"
          ]
        }
      ]
    },
    {
      "cell_type": "markdown",
      "source": [
        "##構成を変更できるのはリスト\n",
        "##構成を変更できない(固定)はタプル"
      ],
      "metadata": {
        "id": "IedTNPA1XVQD"
      }
    },
    {
      "cell_type": "code",
      "source": [
        "#リストの構成変更\n",
        "print(list)\n",
        "list.append(100) #文字列データのリストにあえて数値を追加\n",
        "print(list)\n",
        "del list[2] #リストの3番目を削除\n",
        "print(list)\n",
        "list[3]='ペン' #数値100を'ペン'に更新\n",
        "print(list)\n",
        "list.insert(2,'ペン') #2番目の位置に'ペン'を挿入\n",
        "print(list)"
      ],
      "metadata": {
        "colab": {
          "base_uri": "https://localhost:8080/"
        },
        "id": "YlYlrO5dXoXi",
        "outputId": "38130839-2b7b-4db4-e41d-21911001f8b8"
      },
      "execution_count": 20,
      "outputs": [
        {
          "output_type": "stream",
          "name": "stdout",
          "text": [
            "['アップル', 'ペン', 'ペン', 'パイナップル']\n",
            "['アップル', 'ペン', 'ペン', 'パイナップル', 100]\n",
            "['アップル', 'ペン', 'パイナップル', 100]\n",
            "['アップル', 'ペン', 'パイナップル', 'ペン']\n",
            "['アップル', 'ペン', 'ペン', 'パイナップル', 'ペン']\n"
          ]
        }
      ]
    },
    {
      "cell_type": "markdown",
      "source": [
        "#リストやタプルの長さの取得"
      ],
      "metadata": {
        "id": "GJvCiuapgq73"
      }
    },
    {
      "cell_type": "code",
      "source": [
        "print(list)\n",
        "print(len(list))"
      ],
      "metadata": {
        "colab": {
          "base_uri": "https://localhost:8080/"
        },
        "id": "Ai2NzLfmhInS",
        "outputId": "055d1e34-201e-48c1-9c17-c53e312ab8d5"
      },
      "execution_count": 21,
      "outputs": [
        {
          "output_type": "stream",
          "name": "stdout",
          "text": [
            "['アップル', 'ペン', 'ペン', 'パイナップル', 'ペン']\n",
            "5\n"
          ]
        }
      ]
    },
    {
      "cell_type": "markdown",
      "source": [
        "#スライス\n",
        "##データを抽出する(データを一部分とりだす)"
      ],
      "metadata": {
        "id": "ZbQ_elDZc6xq"
      }
    },
    {
      "cell_type": "code",
      "source": [
        "print(list)\n",
        "print(list[1]) #何番目の要素の指定の仕方と同じ考え方\n",
        "print(list[1:3]) #1番目から3番目までの範囲を指定して抽出=スライス\n",
        "print(list[1:]) #1番目から最後まで抽出(スライス)"
      ],
      "metadata": {
        "colab": {
          "base_uri": "https://localhost:8080/"
        },
        "id": "S8TiCKT3dCX_",
        "outputId": "3ddb5b45-a82a-4e01-df81-a25110463d3c"
      },
      "execution_count": 22,
      "outputs": [
        {
          "output_type": "stream",
          "name": "stdout",
          "text": [
            "['アップル', 'ペン', 'ペン', 'パイナップル', 'ペン']\n",
            "ペン\n",
            "['ペン', 'ペン']\n",
            "['ペン', 'ペン', 'パイナップル', 'ペン']\n"
          ]
        }
      ]
    },
    {
      "cell_type": "markdown",
      "source": [
        "#SET型(集合型)\n",
        "集合型SETは、順番を持たない。重複したデータを持たない"
      ],
      "metadata": {
        "id": "-7XsYCItf2wu"
      }
    },
    {
      "cell_type": "code",
      "source": [
        "#uniqという名前のset型変数を作る\n",
        "uniq=set(['アップル','ペン','ペン','パイナップル'])\n",
        "print(uniq) #リストの時点では'ペン'が重複できていたが、set型になって重複できていたが、set型になって重複が消える"
      ],
      "metadata": {
        "colab": {
          "base_uri": "https://localhost:8080/"
        },
        "id": "EIokSDaNgDTU",
        "outputId": "f92d6990-2a6a-41f5-e7e5-c7c843415775"
      },
      "execution_count": 23,
      "outputs": [
        {
          "output_type": "stream",
          "name": "stdout",
          "text": [
            "{'ペン', 'パイナップル', 'アップル'}\n"
          ]
        }
      ]
    },
    {
      "cell_type": "markdown",
      "source": [
        "#集合型の追加変更削除"
      ],
      "metadata": {
        "id": "6cuFgVq0hWPW"
      }
    },
    {
      "cell_type": "code",
      "source": [
        "print(uniq)\n",
        "uniq.add('バナナ') #追加\n",
        "uniq.remove('ペン') #削除\n",
        "print(uniq)"
      ],
      "metadata": {
        "colab": {
          "base_uri": "https://localhost:8080/"
        },
        "id": "VwXY5axVhZPI",
        "outputId": "6d700977-a48e-4b40-aec5-574ee788ebe9"
      },
      "execution_count": 24,
      "outputs": [
        {
          "output_type": "stream",
          "name": "stdout",
          "text": [
            "{'ペン', 'パイナップル', 'アップル'}\n",
            "{'パイナップル', 'アップル', 'バナナ'}\n"
          ]
        }
      ]
    },
    {
      "cell_type": "markdown",
      "source": [
        "####集合演算\n",
        "包括、積、和、差分"
      ],
      "metadata": {
        "id": "hw0Cek1fiRe3"
      }
    },
    {
      "cell_type": "code",
      "source": [
        "#uniqの値を再定義\n",
        "uniq=set(['アップル','ペン','ペン','パイナップル'])\n",
        "a=set(['アップル','ペン'])\n",
        "b=set(['ペン','パイナップル'])\n",
        "print(uniq)\n",
        "print(a)\n",
        "print(b)\n",
        "#集合 a は集合 uniq の subset(部分集合)である?= 包括関係\n",
        "a.issubset(uniq)\n",
        "#データ'ペン'は集合 a の中にある?\n",
        "'ペン' in a"
      ],
      "metadata": {
        "colab": {
          "base_uri": "https://localhost:8080/"
        },
        "id": "Ad1FDYGdiVja",
        "outputId": "c7cf1ba6-3734-46c2-843b-3c075fe44a17"
      },
      "execution_count": 27,
      "outputs": [
        {
          "output_type": "stream",
          "name": "stdout",
          "text": [
            "{'ペン', 'パイナップル', 'アップル'}\n",
            "{'ペン', 'アップル'}\n",
            "{'ペン', 'パイナップル'}\n"
          ]
        },
        {
          "output_type": "execute_result",
          "data": {
            "text/plain": [
              "True"
            ]
          },
          "metadata": {},
          "execution_count": 27
        }
      ]
    },
    {
      "cell_type": "code",
      "source": [
        "#ある集合と別の集合の共通部分の要素(intertsection)\n",
        "#集合 a と集合 b の共通集合\n",
        "print(a)\n",
        "print(b)\n",
        "print(a.intersection(b)) #集合 a のデータで集合 b に共通したもの : 積\n",
        "#集合 a と集合 b の結合 : 和集合(setなので重複は削除される)\n",
        "print(a.union(b)) #集合aと集合bの集まり\n",
        "#集合aと集合bの差集合(aのみに含まれる集合)\n",
        "a.difference(b) #aからbを取り除いた残り(差分:difference)"
      ],
      "metadata": {
        "colab": {
          "base_uri": "https://localhost:8080/"
        },
        "id": "TTmB685gjQOp",
        "outputId": "3c69e483-b0aa-496e-8ba4-c7526e9ffcf7"
      },
      "execution_count": 32,
      "outputs": [
        {
          "output_type": "stream",
          "name": "stdout",
          "text": [
            "{'ペン', 'アップル'}\n",
            "{'ペン', 'パイナップル'}\n",
            "{'ペン'}\n",
            "{'ペン', 'パイナップル', 'アップル'}\n"
          ]
        },
        {
          "output_type": "execute_result",
          "data": {
            "text/plain": [
              "{'アップル'}"
            ]
          },
          "metadata": {},
          "execution_count": 32
        }
      ]
    },
    {
      "cell_type": "code",
      "source": [],
      "metadata": {
        "id": "esJswOjgrs5k"
      },
      "execution_count": null,
      "outputs": []
    }
  ]
}