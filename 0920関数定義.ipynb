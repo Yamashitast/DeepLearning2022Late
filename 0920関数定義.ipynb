{
  "nbformat": 4,
  "nbformat_minor": 0,
  "metadata": {
    "colab": {
      "provenance": [],
      "collapsed_sections": [],
      "authorship_tag": "ABX9TyOJwOxaOLzUirN8u0KZCTo/",
      "include_colab_link": true
    },
    "kernelspec": {
      "name": "python3",
      "display_name": "Python 3"
    },
    "language_info": {
      "name": "python"
    }
  },
  "cells": [
    {
      "cell_type": "markdown",
      "metadata": {
        "id": "view-in-github",
        "colab_type": "text"
      },
      "source": [
        "<a href=\"https://colab.research.google.com/github/Yamashitast/DeepLearning2022Late/blob/main/0920%E9%96%A2%E6%95%B0%E5%AE%9A%E7%BE%A9.ipynb\" target=\"_parent\"><img src=\"https://colab.research.google.com/assets/colab-badge.svg\" alt=\"Open In Colab\"/></a>"
      ]
    },
    {
      "cell_type": "markdown",
      "source": [
        "#Python3で関数を定義する"
      ],
      "metadata": {
        "id": "rSrTsfLEbgqC"
      }
    },
    {
      "cell_type": "markdown",
      "source": [
        "##関数定義"
      ],
      "metadata": {
        "id": "sUOmxbBNbncF"
      }
    },
    {
      "cell_type": "code",
      "source": [
        "#helloという関数を定義する\n",
        "#\"hello,kansuu!\"と画面表示する関数\n",
        "def hello():\n",
        "  print('hello,kansuu!')#インデントされている\n",
        "  #インデントされている命令文などは関数の範囲の中\n",
        "print('test message!')#インデントされていない\n",
        "#インデントされていない命令文などは関数の範囲の外\n"
      ],
      "metadata": {
        "colab": {
          "base_uri": "https://localhost:8080/"
        },
        "id": "W3dB2VOObhcv",
        "outputId": "e60ccabe-539f-4c4a-e1d6-efbc95930ac7"
      },
      "execution_count": 2,
      "outputs": [
        {
          "output_type": "stream",
          "name": "stdout",
          "text": [
            "test message!\n"
          ]
        }
      ]
    },
    {
      "cell_type": "code",
      "source": [
        "#作成した関数hello()をコールする\n",
        "hello()\n",
        "hello()"
      ],
      "metadata": {
        "colab": {
          "base_uri": "https://localhost:8080/"
        },
        "id": "5EFUi-YteN6H",
        "outputId": "bcd785a0-947f-4e32-bc01-e1ca573ee2aa"
      },
      "execution_count": 3,
      "outputs": [
        {
          "output_type": "stream",
          "name": "stdout",
          "text": [
            "hello,kansuu!\n",
            "hello,kansuu!\n"
          ]
        }
      ]
    },
    {
      "cell_type": "markdown",
      "source": [
        "##引数つきの関数を定義する"
      ],
      "metadata": {
        "id": "Od9U3nERe8Pa"
      }
    },
    {
      "cell_type": "code",
      "source": [
        "#引数付きの関数hello() を定義\n",
        "def hello(who):\n",
        "  print('hello,'+who+'!')\n",
        "hello('Python!')"
      ],
      "metadata": {
        "colab": {
          "base_uri": "https://localhost:8080/"
        },
        "id": "r5_vLJUbe4-U",
        "outputId": "9ffca450-6c41-443e-97dc-a61635e2e56a"
      },
      "execution_count": 5,
      "outputs": [
        {
          "output_type": "stream",
          "name": "stdout",
          "text": [
            "hello,Python!!\n"
          ]
        }
      ]
    },
    {
      "cell_type": "markdown",
      "source": [
        "##複数の引数つきの関数を定義"
      ],
      "metadata": {
        "id": "g4bMBXfDgajK"
      }
    },
    {
      "cell_type": "code",
      "source": [
        "def hello(who,aisatsu):\n",
        "  print('hello,'+who+'さん'+aisatsu)\n",
        "#関数終わり\n",
        "\n",
        "hello('田中','おはよう')\n",
        "hello('鈴木','こんにちは')"
      ],
      "metadata": {
        "colab": {
          "base_uri": "https://localhost:8080/"
        },
        "id": "DtqiaONMgW7T",
        "outputId": "4140b6b3-4aff-4f1c-b77a-d15e29096d8a"
      },
      "execution_count": 7,
      "outputs": [
        {
          "output_type": "stream",
          "name": "stdout",
          "text": [
            "hello,田中さんおはよう\n",
            "hello,鈴木さんこんにちは\n"
          ]
        }
      ]
    },
    {
      "cell_type": "markdown",
      "source": [
        "##関数の戻り値を定義する\n",
        "###戻り値1つの関数を定義"
      ],
      "metadata": {
        "id": "haQD4iYdhzry"
      }
    },
    {
      "cell_type": "code",
      "source": [
        "def helloBack(who,aisatsu):\n",
        "  return who+'さん、'+aisatsu\n",
        "#関数終わり\n",
        "\n",
        "#戻り値を変数xに代入して表示\n",
        "x=helloBack('佐藤','こんばんは')\n",
        "print(x)"
      ],
      "metadata": {
        "colab": {
          "base_uri": "https://localhost:8080/"
        },
        "id": "mCyhGsq8h9up",
        "outputId": "099d9aa4-df62-4cf2-9779-0500e50bc1e2"
      },
      "execution_count": 8,
      "outputs": [
        {
          "output_type": "stream",
          "name": "stdout",
          "text": [
            "佐藤さん、こんばんは\n"
          ]
        }
      ]
    },
    {
      "cell_type": "markdown",
      "source": [
        "##複数の戻り値を返す関数を定義"
      ],
      "metadata": {
        "id": "beTgAImDjpz5"
      }
    },
    {
      "cell_type": "code",
      "source": [
        "def keisan(x,y):\n",
        "  #x,y,x+y この3つの値を返す\n",
        "  return x,y,x+y\n",
        "#関数終わり\n",
        "\n",
        "#関数keisanを実行して戻り値を受け取る\n",
        "keisan(3,6)\n",
        "e,f,g=keisan(3,6)#戻り値が3,6,9になる\n",
        "print(e,f,g)"
      ],
      "metadata": {
        "colab": {
          "base_uri": "https://localhost:8080/"
        },
        "id": "znrhwQbvjnxv",
        "outputId": "540f70ce-e4f9-42b0-bdf9-1f4ccd169075"
      },
      "execution_count": 12,
      "outputs": [
        {
          "output_type": "stream",
          "name": "stdout",
          "text": [
            "3 6 9\n"
          ]
        }
      ]
    },
    {
      "cell_type": "markdown",
      "source": [
        "#その他の文法\n",
        "##分岐(if文)"
      ],
      "metadata": {
        "id": "bsmD3dnPlk2K"
      }
    },
    {
      "cell_type": "code",
      "source": [
        "#if文の範囲もインデントで表す\n",
        "#numの値を閾値で分岐する\n",
        "def over(num,thres):\n",
        "  if num>thres:#numが閾値より大きいとき\n",
        "    print(str(num)+'は'+str(thres)+'より大きい')\n",
        "  else:\n",
        "    print(str(num)+'は'+str(thres)+'以下です')\n",
        "  #分岐の終わり\n",
        "#関数終わり\n",
        "over(333,100)\n",
        "over(-1,10)"
      ],
      "metadata": {
        "colab": {
          "base_uri": "https://localhost:8080/"
        },
        "id": "V_27H34skFGU",
        "outputId": "a5a54293-e113-45be-d25a-8783cca41b0f"
      },
      "execution_count": 14,
      "outputs": [
        {
          "output_type": "stream",
          "name": "stdout",
          "text": [
            "333は100より大きい\n",
            "-1は10以下です\n"
          ]
        }
      ]
    },
    {
      "cell_type": "code",
      "source": [
        "#リストに第2引数の値が含まれるか判定\n",
        "def include(list,keyword):\n",
        "  uniq=set(list)#リストを集合に変換\n",
        "  if keyword in uniq:\n",
        "    print(keyword+'が含まれる')\n",
        "  else:\n",
        "    print(keyword+'が含まれない')\n",
        "  #分岐の終わり\n",
        "#関数の終わり\n",
        "\n",
        "#リストを引き渡して作成した関数を実行する\n",
        "list_1=['アップル','ペン','ペン','パイナップル']#第一引数に使うリスト\n",
        "include(list_1,'パイナップル')\n",
        "include(list_1,'バナナ')"
      ],
      "metadata": {
        "colab": {
          "base_uri": "https://localhost:8080/"
        },
        "id": "tNL0O2CvnrT1",
        "outputId": "dc47f228-30ec-45cf-903c-9a4bf2410713"
      },
      "execution_count": 15,
      "outputs": [
        {
          "output_type": "stream",
          "name": "stdout",
          "text": [
            "パイナップルが含まれる\n",
            "バナナが含まれない\n"
          ]
        }
      ]
    },
    {
      "cell_type": "markdown",
      "source": [
        "##繰り返し文(while文)"
      ],
      "metadata": {
        "id": "7Kq3H19Rw9rW"
      }
    },
    {
      "cell_type": "code",
      "source": [
        "#while文は条件がtrueの間くりかえす\n",
        "\n",
        "def count(max):#numがmax未満の間、くりかえす\n",
        "  num=0\n",
        "  while num<max:\n",
        "    print(num)\n",
        "    num+=1\n",
        "  #while繰り返し終わり\n",
        "#関数終わり\n",
        "\n",
        "count(5)#作成した関数に引数を引き渡して実行"
      ],
      "metadata": {
        "colab": {
          "base_uri": "https://localhost:8080/"
        },
        "id": "lGqnaj1av00e",
        "outputId": "b5c51ee1-5a5f-4272-c1c7-be2c2a871804"
      },
      "execution_count": 16,
      "outputs": [
        {
          "output_type": "stream",
          "name": "stdout",
          "text": [
            "0\n",
            "1\n",
            "2\n",
            "3\n",
            "4\n"
          ]
        }
      ]
    },
    {
      "cell_type": "markdown",
      "source": [
        "##繰り返し文(for文)\n",
        "###変数βの集合から1つずつ取り出して変数αとして使う\n",
        "for 変数α in range(変数β):"
      ],
      "metadata": {
        "id": "oBut9OP0yo4j"
      }
    },
    {
      "cell_type": "code",
      "source": [
        "#集合(コレクション)の中から取り出して繰り返し\n",
        "def every(array):\n",
        "  for x in array:#arrayの中から1つずつデータを取り出しxに代入\n",
        "    print(x)\n",
        "  #for文終わり\n",
        "#関数終わり\n",
        "\n",
        "list=[1,2,3]\n",
        "every(list)\n",
        "tuple=(4,5,6)\n",
        "every(tuple)\n",
        "#辞書型もコレクション\n",
        "dict={'a':7,'b':8,'c':9}\n",
        "every(dict)#キーワードの一覧表示\n",
        "values=dict.values()#値のリストを取得\n",
        "every(values)#値の一覧を表示\n",
        "#文字列も文字配列としてコレクション扱いができる\n",
        "every('dog')#dogとして表示"
      ],
      "metadata": {
        "colab": {
          "base_uri": "https://localhost:8080/"
        },
        "id": "Gn2Fvc7qyWBH",
        "outputId": "7b8f4da2-044a-4c87-836c-0b7736d80074"
      },
      "execution_count": 19,
      "outputs": [
        {
          "output_type": "stream",
          "name": "stdout",
          "text": [
            "1\n",
            "2\n",
            "3\n",
            "4\n",
            "5\n",
            "6\n",
            "a\n",
            "b\n",
            "c\n",
            "7\n",
            "8\n",
            "9\n",
            "d\n",
            "o\n",
            "g\n"
          ]
        }
      ]
    },
    {
      "cell_type": "code",
      "source": [
        "#カウンター変数で繰り返す\n",
        "#for n in range(数値):\n",
        "\n",
        "def count(num):\n",
        "  for i in range(num):#0～num繰り返す\n",
        "    print(i)\n",
        "  #繰り返しの終わり\n",
        "#関数の終わり\n",
        "\n",
        "count(3)#3=0,1,2で繰り返す"
      ],
      "metadata": {
        "colab": {
          "base_uri": "https://localhost:8080/"
        },
        "id": "wNTMlgPw0xmK",
        "outputId": "df5b9edd-eca6-4d08-cbd9-80a3d052db54"
      },
      "execution_count": 20,
      "outputs": [
        {
          "output_type": "stream",
          "name": "stdout",
          "text": [
            "0\n",
            "1\n",
            "2\n"
          ]
        }
      ]
    },
    {
      "cell_type": "markdown",
      "source": [
        "##繰り返しを中断したいときは、break命令"
      ],
      "metadata": {
        "id": "1JOACsLq4yao"
      }
    },
    {
      "cell_type": "code",
      "source": [
        "def stop(array):\n",
        "  for i in array:\n",
        "    if i >=4:\n",
        "      break#ループを中断\n",
        "    print(i)\n",
        "    #分岐終わり\n",
        "  #ループ終わり\n",
        "#関数終わり\n",
        "\n",
        "list=[1,2,3,4,5,1,2,3,4,5]\n",
        "stop(list)"
      ],
      "metadata": {
        "colab": {
          "base_uri": "https://localhost:8080/"
        },
        "id": "llGL9U8U4xQU",
        "outputId": "36f1fdd8-b24b-4ffd-f534-88127fc01f02"
      },
      "execution_count": 22,
      "outputs": [
        {
          "output_type": "stream",
          "name": "stdout",
          "text": [
            "1\n",
            "2\n",
            "3\n"
          ]
        }
      ]
    },
    {
      "cell_type": "markdown",
      "source": [
        "##繰り返しをスキップしたいときは、continue命令"
      ],
      "metadata": {
        "id": "J3Ody3M87IqN"
      }
    },
    {
      "cell_type": "code",
      "source": [
        "def skip(array):\n",
        "  for i in array:\n",
        "    if i>=4:\n",
        "      continue#以降ループ内処理をスキップする\n",
        "    #分岐終わり\n",
        "    print(i)\n",
        "  #繰り返し終わり\n",
        "#関数終わり\n",
        "list=[1,2,3,4,5,1,2,3,4,5]\n",
        "skip(list)"
      ],
      "metadata": {
        "colab": {
          "base_uri": "https://localhost:8080/"
        },
        "id": "DaNUoqJS567r",
        "outputId": "4ba54bf1-bbd6-4176-d3a1-ae77894745b9"
      },
      "execution_count": 23,
      "outputs": [
        {
          "output_type": "stream",
          "name": "stdout",
          "text": [
            "1\n",
            "2\n",
            "3\n",
            "1\n",
            "2\n",
            "3\n"
          ]
        }
      ]
    },
    {
      "cell_type": "code",
      "source": [],
      "metadata": {
        "id": "fYZc1TvW7ko4"
      },
      "execution_count": null,
      "outputs": []
    }
  ]
}